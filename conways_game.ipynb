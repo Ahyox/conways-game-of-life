{
 "cells": [
  {
   "cell_type": "code",
   "execution_count": 8,
   "metadata": {},
   "outputs": [],
   "source": [
    "import numpy as np\n",
    "import time\n",
    "import gc\n",
    "import dill as pkl\n",
    "import scipy\n",
    "import glob\n",
    "from tqdm import tqdm\n",
    "import matplotlib.pyplot as plt\n",
    "import matplotlib.animation as animation\n",
    "from scipy.ndimage import convolve\n",
    "from IPython.display import HTML"
   ]
  },
  {
   "cell_type": "code",
   "execution_count": 4,
   "metadata": {},
   "outputs": [],
   "source": [
    "def initialize_grid(size):\n",
    "    \"\"\"\n",
    "    Initializes a random grid of random size\n",
    "    \"\"\"\n",
    "    grid = np.zeros(size)\n",
    "    grid = np.random.rand(*size)\n",
    "    grid = np.array(grid >= np.random.rand())\n",
    "\n",
    "    return grid.astype(np.uint8)\n",
    "\n",
    "def expand_grid_if_needed(grid):\n",
    "    \"\"\"\n",
    "    Makes it possible for the cells to grow beyond the initially specified grid boundaries\n",
    "    \"\"\"\n",
    "    if np.any(grid[0, :]) or np.any(grid[-1, :]) or np.any(grid[:, 0]) or np.any(grid[:, -1]):\n",
    "        # Expand grid by adding a border of dead cells\n",
    "        new_grid = np.zeros((grid.shape[0] + 2, grid.shape[1] + 2), dtype=int)\n",
    "        new_grid[1:-1, 1:-1] = grid\n",
    "        return new_grid\n",
    "    return grid\n",
    "\n",
    "def update_grid(grid):\n",
    "    kernel = np.array([[1, 1, 1],\n",
    "                       [1, 0, 1],\n",
    "                       [1, 1, 1]])\n",
    "    \n",
    "    # Count neighbors by convolving the grid with the kernel\n",
    "    neighbor_count = convolve(grid, kernel, mode=\"constant\", cval=0)\n",
    "\n",
    "    # Apply the Game of Life rules\n",
    "    new_grid = (neighbor_count == 3) | ((grid == 1) & (neighbor_count == 2))\n",
    "    \n",
    "    return new_grid.astype(np.uint8)\n",
    "    \n",
    "\n",
    "def pad_and_sparse(data):\n",
    "    \"\"\"\n",
    "    pad states to equal sizes, since grid size can grow (see function expand_grid_if_needed above)\n",
    "    \"\"\"\n",
    "    data_padded = []\n",
    "    for state in data:\n",
    "        pad_x = (data[-1].shape[0] - state.shape[0]) // 2\n",
    "        pad_y = (data[-1].shape[1] - state.shape[1]) // 2\n",
    "        padded = np.pad(state, ((pad_x, pad_x), (pad_y, pad_y)), mode='constant', constant_values='0')\n",
    "        data_padded.append(scipy.sparse.csr_matrix(padded))\n",
    "\n",
    "    return data_padded\n",
    "\n",
    "\n",
    "def run_simulation(n=0, save=False, grid=None, size=(30, 30), steps=500):\n",
    "    if grid is None:\n",
    "        grid = initialize_grid(size)\n",
    "\n",
    "    data = [grid]\n",
    "    \n",
    "    for _ in range(steps):\n",
    "        grid = expand_grid_if_needed(grid)\n",
    "        grid = update_grid(grid)\n",
    "        data.append(grid)\n",
    "    \n",
    "    if save:\n",
    "        with open(f'data/sim_{n}.pkl', 'wb') as f:\n",
    "            pkl.dump(pad_and_sparse(data), f)\n",
    "            \n",
    "    else:\n",
    "        return pad_and_sparse(data)"
   ]
  },
  {
   "cell_type": "code",
   "execution_count": 6,
   "metadata": {},
   "outputs": [
    {
     "name": "stderr",
     "output_type": "stream",
     "text": [
      "100%|███████████████████████████████████████████████████████████████████████████| 10000/10000 [3:43:53<00:00,  1.34s/it]\n"
     ]
    }
   ],
   "source": [
    "# Create data\n",
    "\n",
    "N = 10000\n",
    "STEPS = 300\n",
    "INIT_SIZE = (30, 30)\n",
    "sims = []\n",
    "\n",
    "for n in tqdm(range(N)):\n",
    "    run_simulation(n=n, save=True)"
   ]
  },
  {
   "cell_type": "code",
   "execution_count": null,
   "metadata": {},
   "outputs": [],
   "source": [
    "# load simluations from data folder\n",
    "# requires ca 10 GB of RAM, may lead to memory overflow!\n",
    "\n",
    "all_sims = []\n",
    "\n",
    "for sim_path in tqdm(glob.glob('data/*.pkl')):\n",
    "    with open(sim_path, 'rb') as f:\n",
    "        sim = pkl.load(f)\n",
    "        sim = np.array([S.A for S in sim])\n",
    "    all_sims.append(sim)"
   ]
  },
  {
   "cell_type": "code",
   "execution_count": null,
   "metadata": {},
   "outputs": [],
   "source": [
    "# Animate\n",
    "\n",
    "some_sim = all_sims[10]\n",
    "\n",
    "fig, ax = plt.subplots()\n",
    "ax.set_title(\"Conway's Game of Life\")\n",
    "img = ax.imshow(some_sim[0], cmap='binary')\n",
    "\n",
    "def update(frame):\n",
    "    img.set_array(some_sim[frame])\n",
    "    return img,\n",
    "\n",
    "ani = animation.FuncAnimation(fig, update, frames=len(some_sim), interval=100)\n",
    "HTML(ani.to_jshtml())"
   ]
  }
 ],
 "metadata": {
  "kernelspec": {
   "display_name": "Python 3 (ipykernel)",
   "language": "python",
   "name": "python3"
  },
  "language_info": {
   "codemirror_mode": {
    "name": "ipython",
    "version": 3
   },
   "file_extension": ".py",
   "mimetype": "text/x-python",
   "name": "python",
   "nbconvert_exporter": "python",
   "pygments_lexer": "ipython3",
   "version": "3.8.10"
  }
 },
 "nbformat": 4,
 "nbformat_minor": 4
}
