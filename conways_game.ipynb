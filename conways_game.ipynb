{
 "cells": [
  {
   "cell_type": "code",
   "execution_count": 2,
   "metadata": {},
   "outputs": [],
   "source": [
    "import numpy as np\n",
    "import matplotlib.pyplot as plt\n",
    "import matplotlib.animation as animation\n",
    "\n",
    "def initialize_grid(size, num_live_cells):\n",
    "    grid = np.zeros(size)\n",
    "    for _ in range(num_live_cells):\n",
    "        x, y = np.random.randint(0, size[0]), np.random.randint(0, size[1])\n",
    "        grid[x, y] = 1\n",
    "    return grid\n",
    "\n",
    "def update_grid(grid):\n",
    "    new_grid = grid.copy()\n",
    "    for i in range(grid.shape[0]):\n",
    "        for j in range(grid.shape[1]):\n",
    "            live_neighbors = np.sum(grid[i-1:i+2, j-1:j+2]) - grid[i, j]\n",
    "            if grid[i, j] == 1 and (live_neighbors < 2 or live_neighbors > 3):\n",
    "                new_grid[i, j] = 0  # Cell dies\n",
    "            elif grid[i, j] == 0 and live_neighbors == 3:\n",
    "                new_grid[i, j] = 1  # Cell becomes alive\n",
    "    return new_grid\n",
    "\n",
    "def run_simulation(size=(50, 50), num_live_cells=100, steps=100):\n",
    "    grid = initialize_grid(size, num_live_cells)\n",
    "    data = [grid.copy()]\n",
    "\n",
    "    for _ in range(steps):\n",
    "        grid = update_grid(grid)\n",
    "        data.append(grid.copy())\n",
    "\n",
    "    return data\n",
    "\n",
    "# Example usage\n",
    "data = run_simulation()"
   ]
  },
  {
   "cell_type": "code",
   "execution_count": 3,
   "metadata": {},
   "outputs": [
    {
     "data": {
      "image/png": "[encoded data removed]",
      "text/plain": [
       "<Figure size 640x480 with 1 Axes>"
      ]
     },
     "metadata": {},
     "output_type": "display_data"
    },
    {
     "name": "stderr",
     "output_type": "stream",
     "text": [
      "/opt/anaconda3/envs/conways/lib/python3.11/site-packages/matplotlib/animation.py:872: UserWarning: Animation was deleted without rendering anything. This is most likely not intended. To prevent deletion, assign the Animation to a variable, e.g. `anim`, that exists until you output the Animation using `plt.show()` or `anim.save()`.\n",
      "  warnings.warn(\n"
     ]
    }
   ],
   "source": [
    "def animate(data):\n",
    "    fig, ax = plt.subplots()\n",
    "    ax.set_title(\"Conway's Game of Life\")\n",
    "    img = ax.imshow(data[0], cmap='binary')\n",
    "\n",
    "    def update(frame):\n",
    "        img.set_array(data[frame])\n",
    "        return img,\n",
    "\n",
    "    ani = animation.FuncAnimation(fig, update, frames=len(data), interval=100)\n",
    "    plt.show()\n",
    "\n",
    "animate(data)"
   ]
  },
  {
   "cell_type": "code",
   "execution_count": 4,
   "metadata": {},
   "outputs": [],
   "source": [
    " # Save as .npy file\n",
    "np.save('game_of_life_data.npy', data) \n"
   ]
  },
  {
   "cell_type": "code",
   "execution_count": null,
   "metadata": {},
   "outputs": [],
   "source": []
  }
 ],
 "metadata": {
  "kernelspec": {
   "display_name": "conways",
   "language": "python",
   "name": "python3"
  },
  "language_info": {
   "codemirror_mode": {
    "name": "ipython",
    "version": 3
   },
   "file_extension": ".py",
   "mimetype": "text/x-python",
   "name": "python",
   "nbconvert_exporter": "python",
   "pygments_lexer": "ipython3",
   "version": "3.11.9"
  }
 },
 "nbformat": 4,
 "nbformat_minor": 2
}
